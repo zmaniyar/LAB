{
 "cells": [
  {
   "cell_type": "code",
   "execution_count": 5,
   "id": "95f84ede-e588-4b85-9ccd-ffcc8effdd60",
   "metadata": {},
   "outputs": [],
   "source": [
    "from tabulate import tabulate"
   ]
  },
  {
   "attachments": {},
   "cell_type": "markdown",
   "id": "b502424b-3009-47b6-a44b-1b38d1759ecc",
   "metadata": {},
   "source": [
    "# ANDNOT "
   ]
  },
  {
   "cell_type": "code",
   "execution_count": 5,
   "id": "01da2119-8611-4137-9a2d-b649340c92c7",
   "metadata": {},
   "outputs": [
    {
     "name": "stdout",
     "output_type": "stream",
     "text": [
      "x1    x2    w1   w2     t     O\n",
      "0     0     1     1     3     0\n",
      "0     1     1     1     3     0\n",
      "1     0     10     2     3     1\n",
      "1     1     1     1     3     0\n"
     ]
    }
   ],
   "source": [
    "x1 = [0, 0, 1, 1]\n",
    "x2 = [0, 1, 0, 1]\n",
    "w1 = [1, 1, 10, 1]\n",
    "w2 = [1, 1, 2, 1]\n",
    "t = 3\n",
    "#output\n",
    "print(\"x1    x2    w1   w2     t     O\")\n",
    "for i in range(len(x1)):\n",
    "    if ( x1[i]*w1[i] + x2[i]*w2[i] ) >= t:\n",
    "        print(x1[i],'   ',x2[i],'   ',w1[i],'   ',w2[i],'   ',t,'   ', 1)\n",
    "    else:\n",
    "        print(x1[i],'   ',x2[i],'   ',w1[i],'   ',w2[i],'   ',t,'   ', 0)"
   ]
  },
  {
   "attachments": {},
   "cell_type": "markdown",
   "id": "03d25ba3",
   "metadata": {},
   "source": [
    "                                                                                                               --> Shivam Borse         "
   ]
  }
 ],
 "metadata": {
  "kernelspec": {
   "display_name": "Python 3 (ipykernel)",
   "language": "python",
   "name": "python3"
  },
  "language_info": {
   "codemirror_mode": {
    "name": "ipython",
    "version": 3
   },
   "file_extension": ".py",
   "mimetype": "text/x-python",
   "name": "python",
   "nbconvert_exporter": "python",
   "pygments_lexer": "ipython3",
   "version": "3.9.1"
  }
 },
 "nbformat": 4,
 "nbformat_minor": 5
}
