{
 "cells": [
  {
   "cell_type": "code",
   "execution_count": 8,
   "metadata": {},
   "outputs": [],
   "source": [
    "import numpy as np\n",
    "import random\n",
    "import math"
   ]
  },
  {
   "cell_type": "code",
   "execution_count": 9,
   "metadata": {},
   "outputs": [
    {
     "name": "stdout",
     "output_type": "stream",
     "text": [
      "X =  [[ 1  1  1  1  1  1]\n",
      " [-1 -1 -1 -1 -1 -1]\n",
      " [ 1 -1 -1  1  1  1]\n",
      " [ 1  1 -1 -1 -1 -1]]\n",
      "\n",
      "Y =  [[ 1  1  1]\n",
      " [-1 -1 -1]\n",
      " [-1  1  1]\n",
      " [ 1 -1  1]]\n",
      "\n",
      "\n",
      "Dimensions of X:  (4, 6)\n",
      "\n",
      "Dimensions of Y:  (4, 3)\n"
     ]
    }
   ],
   "source": [
    "X1 = [1, 1, 1, 1, 1, 1]\n",
    "X2 = [-1, -1, -1, -1, -1, -1]\n",
    "X3 = [1, -1, -1, 1, 1, 1]\n",
    "X4 = [1, 1, -1, -1, -1, -1]\n",
    "\n",
    "X = np.array([X1, X2, X3, X4])\n",
    "\n",
    "Y1 = [1, 1, 1]\n",
    "Y2 = [-1, -1, -1]\n",
    "Y3 = [-1, 1, 1]\n",
    "Y4 = [1, -1, 1]\n",
    "\n",
    "Y = np.array([Y1, Y2, Y3, Y4])\n",
    "\n",
    "print(\"X = \", X)\n",
    "print(\"\\nY = \", Y)\n",
    "print(\"\\n\\nDimensions of X: \", X.shape)\n",
    "print(\"\\nDimensions of Y: \", Y.shape)"
   ]
  },
  {
   "cell_type": "code",
   "execution_count": 10,
   "metadata": {},
   "outputs": [
    {
     "name": "stdout",
     "output_type": "stream",
     "text": [
      "W =  [[2 2 4]\n",
      " [4 0 2]\n",
      " [2 2 0]\n",
      " [0 4 2]\n",
      " [0 4 2]\n",
      " [0 4 2]]\n",
      "\n",
      "Dimensions of Weight Matrix:  (6, 3)\n"
     ]
    }
   ],
   "source": [
    "def calcWeight(X, Y):\n",
    "    return np.dot(X.T, Y)\n",
    "\n",
    "weight = calcWeight(X, Y)\n",
    "print('W = ', weight, end = \"\")\n",
    "\n",
    "print(\"\\n\\nDimensions of Weight Matrix: \",weight.shape)"
   ]
  },
  {
   "cell_type": "code",
   "execution_count": 11,
   "metadata": {},
   "outputs": [],
   "source": [
    "def ForwardBipolarActivation(matrix, weight):\n",
    "    matrix[matrix > 0] = 1\n",
    "    matrix[matrix <= 0] = -1\n",
    "    return np.array(matrix)\n",
    "\n",
    "def BackwardBipolarActivation(matrix, weight):\n",
    "    matrix[matrix >= 0] = 1\n",
    "    matrix[matrix < 0] = -1\n",
    "    return np.array(matrix)"
   ]
  },
  {
   "attachments": {},
   "cell_type": "markdown",
   "metadata": {},
   "source": [
    "Forward Testing"
   ]
  },
  {
   "cell_type": "code",
   "execution_count": 12,
   "metadata": {},
   "outputs": [],
   "source": [
    "def forward(Y, weight): \n",
    "  x = np.dot(Y, weight.T) \n",
    "  return ForwardBipolarActivation(x, weight)"
   ]
  },
  {
   "cell_type": "code",
   "execution_count": 13,
   "metadata": {},
   "outputs": [
    {
     "name": "stdout",
     "output_type": "stream",
     "text": [
      "\n",
      "weight * Y1 =  [1 1 1 1 1 1]  = X1\n",
      "\n",
      "weight * Y2 =  [-1 -1 -1 -1 -1 -1]  = X2\n",
      "\n",
      "weight * Y3 =  [ 1 -1 -1  1  1  1]  = X3\n",
      "\n",
      "weight * Y4 =  [ 1  1 -1 -1 -1 -1]  = X4\n",
      "\n",
      "\n",
      "It is observed that the obtained results match with the original X matrices.\n",
      "\n",
      "Thus forward testing is 100% accurate.\n"
     ]
    }
   ],
   "source": [
    "print(\"\\nweight * Y1 = \", forward(Y1, weight), \" = X1\")\n",
    "print(\"\\nweight * Y2 = \", forward(Y2, weight), \" = X2\")\n",
    "print(\"\\nweight * Y3 = \", forward(Y3, weight), \" = X3\")\n",
    "print(\"\\nweight * Y4 = \", forward(Y4, weight), \" = X4\")\n",
    "\n",
    "print(\"\\n\\nIt is observed that the obtained results match with the original X matrices.\\n\\nThus forward testing is 100% accurate.\")"
   ]
  },
  {
   "attachments": {},
   "cell_type": "markdown",
   "metadata": {},
   "source": [
    "backward Testing"
   ]
  },
  {
   "cell_type": "code",
   "execution_count": 14,
   "metadata": {},
   "outputs": [],
   "source": [
    "def backward(X, weight): \n",
    "  Y = np.dot(weight.T, X) \n",
    "  return BackwardBipolarActivation(Y, weight)"
   ]
  },
  {
   "cell_type": "code",
   "execution_count": 15,
   "metadata": {},
   "outputs": [
    {
     "name": "stdout",
     "output_type": "stream",
     "text": [
      "\n",
      "weight * X1 =  [1 1 1]  = Y1\n",
      "\n",
      "weight * X2 =  [-1 -1 -1]  = Y2\n",
      "\n",
      "weight * X3 =  [-1  1  1]  = Y3\n",
      "\n",
      "weight * X4 =  [ 1 -1  1]  = Y4\n",
      "\n",
      "\n",
      "It is observed that the obtained results match with the original Y (target) matrices.\n",
      "\n",
      "Thus backward testing is 100% accurate.\n"
     ]
    }
   ],
   "source": [
    "print(\"\\nweight * X1 = \", backward(X1, weight), \" = Y1\")\n",
    "print(\"\\nweight * X2 = \", backward(X2, weight), \" = Y2\")\n",
    "print(\"\\nweight * X3 = \", backward(X3, weight), \" = Y3\")\n",
    "print(\"\\nweight * X4 = \", backward(X4, weight), \" = Y4\")\n",
    "\n",
    "print(\"\\n\\nIt is observed that the obtained results match with the original Y (target) matrices.\\n\\nThus backward testing is 100% accurate.\")"
   ]
  },
  {
   "cell_type": "code",
   "execution_count": null,
   "metadata": {},
   "outputs": [],
   "source": []
  }
 ],
 "metadata": {
  "kernelspec": {
   "display_name": "Python 3",
   "language": "python",
   "name": "python3"
  },
  "language_info": {
   "codemirror_mode": {
    "name": "ipython",
    "version": 3
   },
   "file_extension": ".py",
   "mimetype": "text/x-python",
   "name": "python",
   "nbconvert_exporter": "python",
   "pygments_lexer": "ipython3",
   "version": "3.9.1"
  },
  "orig_nbformat": 4
 },
 "nbformat": 4,
 "nbformat_minor": 2
}
